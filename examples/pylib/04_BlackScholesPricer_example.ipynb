{
 "cells": [
  {
   "cell_type": "markdown",
   "id": "0b4bcd0c",
   "metadata": {},
   "source": [
    "# BlackScholesPricer Example"
   ]
  },
  {
   "cell_type": "markdown",
   "id": "5f393172",
   "metadata": {},
   "source": [
    "## Basics"
   ]
  },
  {
   "cell_type": "markdown",
   "id": "d85f4ad9",
   "metadata": {},
   "source": [
    "Option class is the QuantForm library's implementation for a vanilla European (equity) option. While many pricer could be implemented for it, this example introduces the BlackScholesPricer"
   ]
  },
  {
   "cell_type": "code",
   "execution_count": 1,
   "id": "51fd5edb",
   "metadata": {},
   "outputs": [
    {
     "data": {
      "text/plain": [
       "quantform.pylib.equity.derivative.Option.Option"
      ]
     },
     "execution_count": 1,
     "metadata": {},
     "output_type": "execute_result"
    }
   ],
   "source": [
    "# Setup for the notebook\n",
    "from quantform.pylib import QfDate\n",
    "from quantform.pylib.equity.utils import parse_option_id, form_option_id\n",
    "from quantform.pylib.surface import PriceSurface\n",
    "\n",
    "from quantform.pylib.equity.derivative import Option\n",
    "Option"
   ]
  },
  {
   "cell_type": "markdown",
   "id": "f3a80b87",
   "metadata": {},
   "source": [
    "Market traded options use special identifiers that carry all of the necessary information to define the option. The utility functions 'parse_option_id' and 'form_option_id' make working with the option identifiers easy. A hypothetical option id can be defined as"
   ]
  },
  {
   "cell_type": "code",
   "execution_count": 2,
   "id": "4964b159",
   "metadata": {},
   "outputs": [
    {
     "name": "stdout",
     "output_type": "stream",
     "text": [
      "Option ID: HYPO251231C00100000\n"
     ]
    }
   ],
   "source": [
    "ticker        = \"HYPO\"  # Arbitrary (hypothetical) ticker symbol\n",
    "maturity_date = QfDate(2025, 12, 31)  # Use the default calendar (Frankfurt) and convention (Business/252) for now\n",
    "option_type   = \"Call\"  # The option type. Either 'Call' or 'Put'\n",
    "strike        = 100     # The strike price\n",
    "\n",
    "option_id = form_option_id(ticker, maturity_date, option_type, strike)\n",
    "print(f\"Option ID: {option_id}\")"
   ]
  },
  {
   "cell_type": "markdown",
   "id": "3aa494b8",
   "metadata": {},
   "source": [
    "The Option object itself is easy to define with the option id"
   ]
  },
  {
   "cell_type": "code",
   "execution_count": 3,
   "id": "aeca3110",
   "metadata": {},
   "outputs": [
    {
     "name": "stdout",
     "output_type": "stream",
     "text": [
      "Contract: HYPO251231C00100000\n",
      "Pricer: Black-Scholes Pricer\n",
      "Option Type: Call\n",
      "Maturity Date: 2025-12-31\n",
      "Strike: 100.0\n",
      "Risk-free Rate: 0.05\n",
      "Volatility: 0.2\n"
     ]
    }
   ],
   "source": [
    "risk_free_rate = 0.05  # Define an arbitrary (annual) risk-free rate\n",
    "volatility     = 0.20  # Define an arbitrary (annual) volatility\n",
    "\n",
    "option = Option(option_id, *parse_option_id(option_id), risk_free_rate, volatility=volatility)\n",
    "print(repr(option))"
   ]
  },
  {
   "cell_type": "markdown",
   "id": "a39c0bd8",
   "metadata": {},
   "source": [
    "Pricing the option is then as simple as calling the Option instance with the wanted parameters"
   ]
  },
  {
   "cell_type": "code",
   "execution_count": 4,
   "id": "ea47dd7b",
   "metadata": {},
   "outputs": [
    {
     "name": "stdout",
     "output_type": "stream",
     "text": [
      "Value of the option on 2025-06-15 when the value of underlying is 100: 7.300142856557294\n"
     ]
    }
   ],
   "source": [
    "underlying_value = 100\n",
    "report_date = QfDate(2025, 6, 15)\n",
    "\n",
    "option_price = option(underlying_value, report_date)\n",
    "print(f\"Value of the option on {report_date} when the value of underlying is {underlying_value}: {option_price}\")"
   ]
  },
  {
   "cell_type": "markdown",
   "id": "f4f1c340",
   "metadata": {},
   "source": [
    "The sensitivities are likewise easy to calculate. Note that not all sensitivities are currently supported (TODO: check)"
   ]
  },
  {
   "cell_type": "code",
   "execution_count": 5,
   "id": "ccad39d3",
   "metadata": {},
   "outputs": [
    {
     "name": "stdout",
     "output_type": "stream",
     "text": [
      "Sensitivities on 2025-06-15 when value of underlying is 100\n",
      "Delta: 0.6025454474485946\n",
      "Vega: 28.64472631294972\n",
      "Gamma: 0.025965723132601905\n"
     ]
    }
   ],
   "source": [
    "delta = option.delta(underlying_value, report_date)\n",
    "vega  = option.vega(underlying_value, report_date)\n",
    "gamma = option.gamma(underlying_value, report_date)\n",
    "\n",
    "print(f\"Sensitivities on {report_date} when value of underlying is {underlying_value}\")\n",
    "print(f\"Delta: {delta}\")\n",
    "print(f\"Vega: {vega}\")\n",
    "print(f\"Gamma: {gamma}\")"
   ]
  },
  {
   "cell_type": "markdown",
   "id": "2434989e",
   "metadata": {},
   "source": [
    "The option implied probability is also straightforward to compute, but requires accessing the BlackScholesPricer object"
   ]
  },
  {
   "cell_type": "code",
   "execution_count": 6,
   "id": "b1941a12",
   "metadata": {},
   "outputs": [
    {
     "name": "stdout",
     "output_type": "stream",
     "text": [
      "Option implied volatility for market price 6: 0.15440686949729918\n"
     ]
    }
   ],
   "source": [
    "market_price = 6  # Arbitrary choice for the options market price\n",
    "\n",
    "implied_vol = option.pricer.implied_volatility(market_price, underlying_value, report_date)\n",
    "\n",
    "print(f\"Option implied volatility for market price {market_price}: {implied_vol}\")"
   ]
  },
  {
   "cell_type": "markdown",
   "id": "7b86e6b7",
   "metadata": {},
   "source": [
    "The option could also be initialised with the market parameters in which case the volatility will be replaced by the computed implied volatility"
   ]
  },
  {
   "cell_type": "code",
   "execution_count": 7,
   "id": "014a2d29",
   "metadata": {},
   "outputs": [
    {
     "name": "stdout",
     "output_type": "stream",
     "text": [
      "Contract: HYPO251231C00100000\n",
      "Pricer: Black-Scholes Pricer\n",
      "Option Type: Call\n",
      "Maturity Date: 2025-12-31\n",
      "Strike: 100.0\n",
      "Risk-free Rate: 0.05\n",
      "Volatility: 0.15440686949729918\n"
     ]
    }
   ],
   "source": [
    "option2 = Option(option_id, *parse_option_id(option_id), risk_free_rate, \n",
    "                 market_price=market_price, underlying_value=underlying_value, report_date=report_date)\n",
    "\n",
    "print(repr(option2))"
   ]
  },
  {
   "cell_type": "markdown",
   "id": "691dc532",
   "metadata": {},
   "source": [
    "The option price as a function of the underlying and the time to maturity can be visualised using a PriceSurface object that is built on the GenericSurface class introduced in the example '03_surface_example.ipynb'"
   ]
  },
  {
   "cell_type": "code",
   "execution_count": 8,
   "id": "a29b761b",
   "metadata": {},
   "outputs": [
    {
     "name": "stderr",
     "output_type": "stream",
     "text": [
      "/home/kasper/GIT/quantform/src/quantform/pylib/equity/pricer/BlackScholesPricer.py:129: RuntimeWarning: divide by zero encountered in log\n",
      "  (np.log(underlying_value / self.__strike) + (self.__rf + self.__vol ** 2 / 2) * \\\n"
     ]
    },
    {
     "data": {
      "image/png": "[encoded data removed]",
      "text/plain": [
       "<Figure size 700x500 with 2 Axes>"
      ]
     },
     "metadata": {},
     "output_type": "display_data"
    }
   ],
   "source": [
    "surf = PriceSurface(option, (25, 25))\n",
    "fig  = surf.plot((100, 100), ((0, 1), (75, 125)))"
   ]
  }
 ],
 "metadata": {
  "kernelspec": {
   "display_name": ".venv (3.12.3)",
   "language": "python",
   "name": "python3"
  },
  "language_info": {
   "codemirror_mode": {
    "name": "ipython",
    "version": 3
   },
   "file_extension": ".py",
   "mimetype": "text/x-python",
   "name": "python",
   "nbconvert_exporter": "python",
   "pygments_lexer": "ipython3",
   "version": "3.12.3"
  }
 },
 "nbformat": 4,
 "nbformat_minor": 5
}
