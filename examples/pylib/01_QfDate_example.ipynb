{
 "cells": [
  {
   "cell_type": "markdown",
   "id": "4337c3a1",
   "metadata": {},
   "source": [
    "# QfDate Example"
   ]
  },
  {
   "cell_type": "markdown",
   "id": "aab407de",
   "metadata": {},
   "source": [
    "## Basics"
   ]
  },
  {
   "cell_type": "markdown",
   "id": "c116d77b",
   "metadata": {},
   "source": [
    "QfDate is the QuantForm library's date object. It is mainly built on top of the QuantLib Date object with many quality of life improvements."
   ]
  },
  {
   "cell_type": "code",
   "execution_count": 1,
   "id": "9194f2cc",
   "metadata": {},
   "outputs": [
    {
     "data": {
      "text/plain": [
       "quantform.pylib.QfDate.QfDate"
      ]
     },
     "execution_count": 1,
     "metadata": {},
     "output_type": "execute_result"
    }
   ],
   "source": [
    "# Setup for the notebook\n",
    "from quantform.pylib import QfDate\n",
    "QfDate"
   ]
  },
  {
   "cell_type": "markdown",
   "id": "4bdf1ba7",
   "metadata": {},
   "source": [
    "The QfDate object functions very similarly to Python's datetime objects. It can be initialized simply with the year, month and day of interest (in that order)"
   ]
  },
  {
   "cell_type": "code",
   "execution_count": 2,
   "id": "68ef1710",
   "metadata": {},
   "outputs": [
    {
     "name": "stdout",
     "output_type": "stream",
     "text": [
      "2025-08-01\n"
     ]
    }
   ],
   "source": [
    "date = QfDate(2025, 8, 1)\n",
    "print(date)"
   ]
  },
  {
   "cell_type": "markdown",
   "id": "d0a62095",
   "metadata": {},
   "source": [
    "However, the QfDate also takes optional keyword arguments the name of the used calendar and the day count convention. The default ones are 'Frankfurt' and 'Business/252' respectively"
   ]
  },
  {
   "cell_type": "code",
   "execution_count": 3,
   "id": "e2a7d9e2",
   "metadata": {},
   "outputs": [
    {
     "name": "stdout",
     "output_type": "stream",
     "text": [
      "Date: 2025-08-01\n",
      "Convention: Business/252\n",
      "Calendar: Frankfurt\n"
     ]
    }
   ],
   "source": [
    "print(repr(date))"
   ]
  },
  {
   "cell_type": "markdown",
   "id": "dc2b3ebe",
   "metadata": {},
   "source": [
    "These are generally good options for most cases. If the focus on trading is in US market then the calendar 'NYSE' should be preferred and similarly if the focus is on the UK market then the calendar 'London' should be utilized. Note that not all of the calendars available in QuantLib are currently supported.\n",
    "\n",
    "If the trading focuses on fixed-income securities, the day count convention should be changed to either 'ACT/360' or 'ACT/365'."
   ]
  },
  {
   "cell_type": "markdown",
   "id": "c5d7de8a",
   "metadata": {},
   "source": [
    "The values used in initialization can also be accessed as properties of the object"
   ]
  },
  {
   "cell_type": "code",
   "execution_count": 4,
   "id": "02ee6766",
   "metadata": {},
   "outputs": [
    {
     "name": "stdout",
     "output_type": "stream",
     "text": [
      "Year: 2025\n",
      "Month: 8\n",
      "Day: 1\n",
      "Calendar: Frankfurt\n",
      "Convention: Business/252\n"
     ]
    }
   ],
   "source": [
    "print(f\"Year: {date.year}\")\n",
    "print(f\"Month: {date.month}\")\n",
    "print(f\"Day: {date.day}\")\n",
    "print(f\"Calendar: {date.calendar}\")\n",
    "print(f\"Convention: {date.convention}\")"
   ]
  },
  {
   "cell_type": "markdown",
   "id": "7ded7646",
   "metadata": {},
   "source": [
    "The important feature of the calendar is that it allows distinguishing if a given date is a bank day or not. This can be done with the 'is_prod_date' method"
   ]
  },
  {
   "cell_type": "code",
   "execution_count": 5,
   "id": "382dd762",
   "metadata": {},
   "outputs": [
    {
     "name": "stdout",
     "output_type": "stream",
     "text": [
      "2025-08-01 is a production date: True\n",
      "2025-08-02 is a production date: False\n"
     ]
    }
   ],
   "source": [
    "print(f\"{date} is a production date: {date.is_prod_date()}\")\n",
    "# The date '2025-08-01 is a Friday\n",
    "print(f\"{date.date_shift(1)} is a production date: {(date + 1).is_prod_date()}\")"
   ]
  },
  {
   "cell_type": "markdown",
   "id": "b4b59567",
   "metadata": {},
   "source": [
    "Likewise the next and previous bank days can be found with methods 'next_prod_date' and 'prev_prod_date' respectively"
   ]
  },
  {
   "cell_type": "code",
   "execution_count": 6,
   "id": "f3cd0d78",
   "metadata": {},
   "outputs": [
    {
     "name": "stdout",
     "output_type": "stream",
     "text": [
      "Next production date from 2025-08-01: 2025-08-04\n",
      "Previous production date from 2025-08-01: 2025-07-31\n"
     ]
    }
   ],
   "source": [
    "print(f\"Next production date from {date}: {date.next_prod_date()}\")\n",
    "print(f\"Previous production date from {date}: {date.prev_prod_date()}\")"
   ]
  },
  {
   "cell_type": "markdown",
   "id": "5f320cfd",
   "metadata": {},
   "source": [
    "Simple iteration over the production dates makes it possible to calculate how many of them are between two dates. This is implemented as 'prod_days_since' and 'prod_days_until' methods."
   ]
  },
  {
   "cell_type": "code",
   "execution_count": 7,
   "id": "e600127e",
   "metadata": {},
   "outputs": [
    {
     "name": "stdout",
     "output_type": "stream",
     "text": [
      "Number of production dates between 2025-08-01 and 2025-11-09: 71\n"
     ]
    }
   ],
   "source": [
    "print(f\"Number of production dates between {date} and {date.date_shift(100)}: {date.prod_days_until(date.date_shift(100))}\")"
   ]
  },
  {
   "cell_type": "markdown",
   "id": "d4686563",
   "metadata": {},
   "source": [
    "Other useful methods can be the various '*_year_start', '*_year_end', '*_month_start', '*_month_end' methods. As is implicit in the names, these methods return the start or end of the specified month or year. As an example"
   ]
  },
  {
   "cell_type": "code",
   "execution_count": 8,
   "id": "79393977",
   "metadata": {},
   "outputs": [
    {
     "name": "stdout",
     "output_type": "stream",
     "text": [
      "The first day of the year for 2025-08-01: 2025-01-01\n",
      "The last day of the next month for 2025-08-01: 2025-09-30\n"
     ]
    }
   ],
   "source": [
    "print(f\"The first day of the year for {date}: {date.this_year_start()}\")\n",
    "print(f\"The last day of the next month for {date}: {date.next_month_end()}\")"
   ]
  },
  {
   "cell_type": "markdown",
   "id": "9ca508f9",
   "metadata": {},
   "source": [
    "## Date manipulation"
   ]
  },
  {
   "cell_type": "markdown",
   "id": "a2e15787",
   "metadata": {},
   "source": [
    "The addition and subtraction as well as multiplication and division operators have been overloaded to provide useful date manipulation methods. \n",
    "\n",
    "Adding and subtracting integers changes the day under the given day count convention. That is adding 252 days under 'Business/252' convention should be equivalent to moving forward roughly one year, but under 'ACT/365' convention would be equal to moving forward exactly 252 days. Equivalent holds for subtraction."
   ]
  },
  {
   "cell_type": "code",
   "execution_count": 9,
   "id": "ba051ac5",
   "metadata": {},
   "outputs": [
    {
     "name": "stdout",
     "output_type": "stream",
     "text": [
      "Date: 2026-08-01\n",
      "Convention: Business/252\n",
      "Calendar: Frankfurt\n",
      "\n",
      "Date: 2026-04-10\n",
      "Convention: ACT/365\n",
      "Calendar: Frankfurt\n"
     ]
    }
   ],
   "source": [
    "bus_252_date = date\n",
    "act_365_date = QfDate(2025, 8, 1, convention=\"ACT/365\")\n",
    "\n",
    "print(repr(bus_252_date + 252), end=\"\\n\\n\")\n",
    "print(repr(act_365_date + 252))"
   ]
  },
  {
   "cell_type": "markdown",
   "id": "97c31350",
   "metadata": {},
   "source": [
    "The multiplication and division operators provide a way to manipulate the date with a year fraction. Assume the given date is multiplied by some number $x$. The returned date would then be \n",
    "\n",
    "$$\n",
    "  d_2 = d_1 + x \\langle\\text{days in a year}\\rangle\n",
    "$$\n",
    "\n",
    "where $\\langle\\text{days in a year}\\rangle$ is determined by the day count convention. Division works equivalently, but subtracts the number of days."
   ]
  },
  {
   "cell_type": "code",
   "execution_count": 10,
   "id": "6fe596bf",
   "metadata": {},
   "outputs": [
    {
     "name": "stdout",
     "output_type": "stream",
     "text": [
      "Date: 2026-08-01\n",
      "Convention: Business/252\n",
      "Calendar: Frankfurt\n",
      "\n",
      "Date: 2026-01-31\n",
      "Convention: ACT/365\n",
      "Calendar: Frankfurt\n",
      "\n"
     ]
    }
   ],
   "source": [
    "print(repr(bus_252_date * 1.), end=\"\\n\\n\")\n",
    "print(repr(act_365_date * 0.5), end=\"\\n\\n\")"
   ]
  },
  {
   "cell_type": "markdown",
   "id": "6d5d0a9b",
   "metadata": {},
   "source": [
    "In addition to the addition and subtraction operators, which do the calculations under the day count convention, a simple day shift is also included as method 'date_shift'. As the name suggests this method shifts the date by the specified amount without any complications"
   ]
  },
  {
   "cell_type": "code",
   "execution_count": 11,
   "id": "b0053eb2",
   "metadata": {},
   "outputs": [
    {
     "name": "stdout",
     "output_type": "stream",
     "text": [
      "Date: 2025-08-04\n",
      "Convention: Business/252\n",
      "Calendar: Frankfurt\n"
     ]
    }
   ],
   "source": [
    "print(repr(bus_252_date.date_shift(3)))"
   ]
  },
  {
   "cell_type": "markdown",
   "id": "ad68bbe4",
   "metadata": {},
   "source": [
    "Dates can be compared to one another if wanted to determine which is further in the future"
   ]
  },
  {
   "cell_type": "code",
   "execution_count": 12,
   "id": "6f339361",
   "metadata": {},
   "outputs": [
    {
     "name": "stdout",
     "output_type": "stream",
     "text": [
      "True\n"
     ]
    }
   ],
   "source": [
    "print(bus_252_date + 3 > bus_252_date)"
   ]
  },
  {
   "cell_type": "markdown",
   "id": "69f9296c",
   "metadata": {},
   "source": [
    "However, only comparison between dates with the same calendar and convention is allowed"
   ]
  },
  {
   "cell_type": "code",
   "execution_count": 13,
   "id": "388e4e5c",
   "metadata": {},
   "outputs": [
    {
     "name": "stdout",
     "output_type": "stream",
     "text": [
      "The conventions must match! (ACT/365 != Business/252)\n"
     ]
    }
   ],
   "source": [
    "try:\n",
    "  act_365_date > bus_252_date\n",
    "except AssertionError as e:\n",
    "  print(e)"
   ]
  },
  {
   "cell_type": "markdown",
   "id": "935fe3b1",
   "metadata": {},
   "source": [
    "This behaviour holds for all methods where the second argument is also a QfDate instance"
   ]
  },
  {
   "cell_type": "markdown",
   "id": "9f6246a5",
   "metadata": {},
   "source": [
    "A very common number needed is the year fraction between two dates. This can be calculated with the 'timedelta' method"
   ]
  },
  {
   "cell_type": "code",
   "execution_count": 14,
   "id": "38bdaa0e",
   "metadata": {},
   "outputs": [
    {
     "name": "stdout",
     "output_type": "stream",
     "text": [
      "Year fraction: 0.4087301587301587\n",
      "Should be roughly: 0.3968253968253968\n"
     ]
    }
   ],
   "source": [
    "bus_252_date2 = bus_252_date + 100\n",
    "print(f\"Year fraction: {bus_252_date.timedelta(bus_252_date2)}\")\n",
    "print(f\"Should be roughly: {100 / 252}\")"
   ]
  }
 ],
 "metadata": {
  "kernelspec": {
   "display_name": ".venv (3.12.3)",
   "language": "python",
   "name": "python3"
  },
  "language_info": {
   "codemirror_mode": {
    "name": "ipython",
    "version": 3
   },
   "file_extension": ".py",
   "mimetype": "text/x-python",
   "name": "python",
   "nbconvert_exporter": "python",
   "pygments_lexer": "ipython3",
   "version": "3.12.3"
  }
 },
 "nbformat": 4,
 "nbformat_minor": 5
}
